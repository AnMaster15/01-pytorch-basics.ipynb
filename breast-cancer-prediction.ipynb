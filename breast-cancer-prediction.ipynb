{
 "cells": [
  {
   "cell_type": "markdown",
   "id": "4ce0808e",
   "metadata": {
    "id": "50GY2nZi0yvm",
    "papermill": {
     "duration": 0.005563,
     "end_time": "2025-01-20T10:38:59.903347",
     "exception": false,
     "start_time": "2025-01-20T10:38:59.897784",
     "status": "completed"
    },
    "tags": []
   },
   "source": [
    "**Importing the Dependencies**"
   ]
  },
  {
   "cell_type": "code",
   "execution_count": 1,
   "id": "6376a017",
   "metadata": {
    "execution": {
     "iopub.execute_input": "2025-01-20T10:38:59.914348Z",
     "iopub.status.busy": "2025-01-20T10:38:59.913923Z",
     "iopub.status.idle": "2025-01-20T10:39:05.496588Z",
     "shell.execute_reply": "2025-01-20T10:39:05.495211Z"
    },
    "id": "3UqJ7q-bmvK2",
    "papermill": {
     "duration": 5.590108,
     "end_time": "2025-01-20T10:39:05.498454",
     "exception": false,
     "start_time": "2025-01-20T10:38:59.908346",
     "status": "completed"
    },
    "tags": []
   },
   "outputs": [],
   "source": [
    "import torch\n",
    "import torch.nn as nn\n",
    "import torch.optim as optim\n",
    "from sklearn.datasets import load_breast_cancer\n",
    "from sklearn.model_selection import train_test_split\n",
    "from sklearn.preprocessing import StandardScaler"
   ]
  },
  {
   "cell_type": "markdown",
   "id": "133959b3",
   "metadata": {
    "id": "AQxTh4r51UNc",
    "papermill": {
     "duration": 0.00451,
     "end_time": "2025-01-20T10:39:05.508192",
     "exception": false,
     "start_time": "2025-01-20T10:39:05.503682",
     "status": "completed"
    },
    "tags": []
   },
   "source": [
    "**Device Configuration**"
   ]
  },
  {
   "cell_type": "code",
   "execution_count": 2,
   "id": "067c264c",
   "metadata": {
    "execution": {
     "iopub.execute_input": "2025-01-20T10:39:05.518792Z",
     "iopub.status.busy": "2025-01-20T10:39:05.518342Z",
     "iopub.status.idle": "2025-01-20T10:39:05.527923Z",
     "shell.execute_reply": "2025-01-20T10:39:05.526625Z"
    },
    "id": "LjGJ5Ov01PO4",
    "outputId": "d126bf6b-f178-415c-e149-046b4d6823ce",
    "papermill": {
     "duration": 0.017053,
     "end_time": "2025-01-20T10:39:05.529837",
     "exception": false,
     "start_time": "2025-01-20T10:39:05.512784",
     "status": "completed"
    },
    "tags": []
   },
   "outputs": [
    {
     "name": "stdout",
     "output_type": "stream",
     "text": [
      "Using device: cpu\n"
     ]
    }
   ],
   "source": [
    "# check for CUDA availability\n",
    "device = torch.device(\"cuda\" if torch.cuda.is_available() else \"cpu\")\n",
    "print(f\"Using device: {device}\")"
   ]
  },
  {
   "cell_type": "markdown",
   "id": "f3939b15",
   "metadata": {
    "id": "ftLIW-gb12xD",
    "papermill": {
     "duration": 0.004685,
     "end_time": "2025-01-20T10:39:05.539811",
     "exception": false,
     "start_time": "2025-01-20T10:39:05.535126",
     "status": "completed"
    },
    "tags": []
   },
   "source": [
    "**Data Collection and preprocessing**"
   ]
  },
  {
   "cell_type": "code",
   "execution_count": 3,
   "id": "f32fce46",
   "metadata": {
    "execution": {
     "iopub.execute_input": "2025-01-20T10:39:05.550602Z",
     "iopub.status.busy": "2025-01-20T10:39:05.550231Z",
     "iopub.status.idle": "2025-01-20T10:39:05.566975Z",
     "shell.execute_reply": "2025-01-20T10:39:05.565969Z"
    },
    "id": "Nhg-xdu51zTC",
    "papermill": {
     "duration": 0.024295,
     "end_time": "2025-01-20T10:39:05.568959",
     "exception": false,
     "start_time": "2025-01-20T10:39:05.544664",
     "status": "completed"
    },
    "tags": []
   },
   "outputs": [],
   "source": [
    "# load the breast cancer dataset\n",
    "data = load_breast_cancer()\n",
    "X = data.data\n",
    "y = data.target"
   ]
  },
  {
   "cell_type": "code",
   "execution_count": 4,
   "id": "afbab4a8",
   "metadata": {
    "execution": {
     "iopub.execute_input": "2025-01-20T10:39:05.580084Z",
     "iopub.status.busy": "2025-01-20T10:39:05.579693Z",
     "iopub.status.idle": "2025-01-20T10:39:05.585374Z",
     "shell.execute_reply": "2025-01-20T10:39:05.584034Z"
    },
    "id": "d3Zay_xP2GDM",
    "outputId": "d5005de0-be25-4a34-98e0-9c0d470b2abb",
    "papermill": {
     "duration": 0.012934,
     "end_time": "2025-01-20T10:39:05.586944",
     "exception": false,
     "start_time": "2025-01-20T10:39:05.574010",
     "status": "completed"
    },
    "tags": []
   },
   "outputs": [
    {
     "name": "stdout",
     "output_type": "stream",
     "text": [
      "[[1.799e+01 1.038e+01 1.228e+02 ... 2.654e-01 4.601e-01 1.189e-01]\n",
      " [2.057e+01 1.777e+01 1.329e+02 ... 1.860e-01 2.750e-01 8.902e-02]\n",
      " [1.969e+01 2.125e+01 1.300e+02 ... 2.430e-01 3.613e-01 8.758e-02]\n",
      " ...\n",
      " [1.660e+01 2.808e+01 1.083e+02 ... 1.418e-01 2.218e-01 7.820e-02]\n",
      " [2.060e+01 2.933e+01 1.401e+02 ... 2.650e-01 4.087e-01 1.240e-01]\n",
      " [7.760e+00 2.454e+01 4.792e+01 ... 0.000e+00 2.871e-01 7.039e-02]]\n"
     ]
    }
   ],
   "source": [
    "print(X)"
   ]
  },
  {
   "cell_type": "code",
   "execution_count": 5,
   "id": "436ff206",
   "metadata": {
    "execution": {
     "iopub.execute_input": "2025-01-20T10:39:05.598091Z",
     "iopub.status.busy": "2025-01-20T10:39:05.597626Z",
     "iopub.status.idle": "2025-01-20T10:39:05.604610Z",
     "shell.execute_reply": "2025-01-20T10:39:05.603466Z"
    },
    "id": "5UYtJHLG2H9w",
    "outputId": "2d5684ce-3614-4b78-b449-59beb0020843",
    "papermill": {
     "duration": 0.014304,
     "end_time": "2025-01-20T10:39:05.606289",
     "exception": false,
     "start_time": "2025-01-20T10:39:05.591985",
     "status": "completed"
    },
    "tags": []
   },
   "outputs": [
    {
     "name": "stdout",
     "output_type": "stream",
     "text": [
      "[0 0 0 0 0]\n"
     ]
    }
   ],
   "source": [
    "print(y[:5])"
   ]
  },
  {
   "cell_type": "code",
   "execution_count": 6,
   "id": "1f74c7a2",
   "metadata": {
    "execution": {
     "iopub.execute_input": "2025-01-20T10:39:05.617645Z",
     "iopub.status.busy": "2025-01-20T10:39:05.617272Z",
     "iopub.status.idle": "2025-01-20T10:39:05.624110Z",
     "shell.execute_reply": "2025-01-20T10:39:05.623209Z"
    },
    "id": "TeC15_m-2JW9",
    "papermill": {
     "duration": 0.014314,
     "end_time": "2025-01-20T10:39:05.625739",
     "exception": false,
     "start_time": "2025-01-20T10:39:05.611425",
     "status": "completed"
    },
    "tags": []
   },
   "outputs": [],
   "source": [
    "# split the dataset into training and test set\n",
    "X_train, X_test, y_train, y_test = train_test_split(X, y, test_size=0.2, random_state=42)"
   ]
  },
  {
   "cell_type": "code",
   "execution_count": 7,
   "id": "e19fff2a",
   "metadata": {
    "execution": {
     "iopub.execute_input": "2025-01-20T10:39:05.637146Z",
     "iopub.status.busy": "2025-01-20T10:39:05.636722Z",
     "iopub.status.idle": "2025-01-20T10:39:05.643155Z",
     "shell.execute_reply": "2025-01-20T10:39:05.641911Z"
    },
    "id": "TsJNpN-72cbv",
    "outputId": "de9649bb-215c-46d5-9e74-19c865bccf02",
    "papermill": {
     "duration": 0.014265,
     "end_time": "2025-01-20T10:39:05.645022",
     "exception": false,
     "start_time": "2025-01-20T10:39:05.630757",
     "status": "completed"
    },
    "tags": []
   },
   "outputs": [
    {
     "name": "stdout",
     "output_type": "stream",
     "text": [
      "(569, 30)\n",
      "(455, 30)\n",
      "(114, 30)\n"
     ]
    }
   ],
   "source": [
    "print(X.shape)\n",
    "print(X_train.shape)\n",
    "print(X_test.shape)"
   ]
  },
  {
   "cell_type": "code",
   "execution_count": 8,
   "id": "4db07fc6",
   "metadata": {
    "execution": {
     "iopub.execute_input": "2025-01-20T10:39:05.656654Z",
     "iopub.status.busy": "2025-01-20T10:39:05.656298Z",
     "iopub.status.idle": "2025-01-20T10:39:05.679212Z",
     "shell.execute_reply": "2025-01-20T10:39:05.677927Z"
    },
    "id": "fl5FAzc-2iNS",
    "papermill": {
     "duration": 0.030693,
     "end_time": "2025-01-20T10:39:05.681169",
     "exception": false,
     "start_time": "2025-01-20T10:39:05.650476",
     "status": "completed"
    },
    "tags": []
   },
   "outputs": [],
   "source": [
    "# standardize the data using Standard sclaer\n",
    "scaler = StandardScaler()\n",
    "\n",
    "X_train = scaler.fit_transform(X_train)\n",
    "X_test = scaler.transform(X_test)"
   ]
  },
  {
   "cell_type": "code",
   "execution_count": 9,
   "id": "4200900f",
   "metadata": {
    "execution": {
     "iopub.execute_input": "2025-01-20T10:39:05.692516Z",
     "iopub.status.busy": "2025-01-20T10:39:05.692190Z",
     "iopub.status.idle": "2025-01-20T10:39:05.698800Z",
     "shell.execute_reply": "2025-01-20T10:39:05.697943Z"
    },
    "id": "6vHNjJQX3HRr",
    "outputId": "5d537bcd-8c3b-41b9-e719-f8d7e32e62f8",
    "papermill": {
     "duration": 0.01438,
     "end_time": "2025-01-20T10:39:05.700675",
     "exception": false,
     "start_time": "2025-01-20T10:39:05.686295",
     "status": "completed"
    },
    "tags": []
   },
   "outputs": [
    {
     "data": {
      "text/plain": [
       "numpy.ndarray"
      ]
     },
     "execution_count": 9,
     "metadata": {},
     "output_type": "execute_result"
    }
   ],
   "source": [
    "type(X_train)"
   ]
  },
  {
   "cell_type": "code",
   "execution_count": 10,
   "id": "aec37764",
   "metadata": {
    "execution": {
     "iopub.execute_input": "2025-01-20T10:39:05.712894Z",
     "iopub.status.busy": "2025-01-20T10:39:05.712547Z",
     "iopub.status.idle": "2025-01-20T10:39:05.750186Z",
     "shell.execute_reply": "2025-01-20T10:39:05.749237Z"
    },
    "id": "vaGLX4ye3Kab",
    "papermill": {
     "duration": 0.045764,
     "end_time": "2025-01-20T10:39:05.752170",
     "exception": false,
     "start_time": "2025-01-20T10:39:05.706406",
     "status": "completed"
    },
    "tags": []
   },
   "outputs": [],
   "source": [
    "# convert data to PyTorch tensors and move it to GPU\n",
    "X_train = torch.tensor(X_train, dtype=torch.float32).to(device)\n",
    "y_train = torch.tensor(y_train, dtype=torch.float32).to(device)\n",
    "X_test = torch.tensor(X_test, dtype=torch.float32).to(device)\n",
    "y_test = torch.tensor(y_test, dtype=torch.float32).to(device)"
   ]
  },
  {
   "cell_type": "markdown",
   "id": "51db8ab7",
   "metadata": {
    "id": "oe8WXW1a4JHP",
    "papermill": {
     "duration": 0.004749,
     "end_time": "2025-01-20T10:39:05.762185",
     "exception": false,
     "start_time": "2025-01-20T10:39:05.757436",
     "status": "completed"
    },
    "tags": []
   },
   "source": [
    "**Neural Network Architecture**"
   ]
  },
  {
   "cell_type": "code",
   "execution_count": 11,
   "id": "e0f35021",
   "metadata": {
    "execution": {
     "iopub.execute_input": "2025-01-20T10:39:05.773518Z",
     "iopub.status.busy": "2025-01-20T10:39:05.773187Z",
     "iopub.status.idle": "2025-01-20T10:39:05.778626Z",
     "shell.execute_reply": "2025-01-20T10:39:05.777761Z"
    },
    "id": "2BnIGZRV4CfC",
    "papermill": {
     "duration": 0.012924,
     "end_time": "2025-01-20T10:39:05.780343",
     "exception": false,
     "start_time": "2025-01-20T10:39:05.767419",
     "status": "completed"
    },
    "tags": []
   },
   "outputs": [],
   "source": [
    "# define the neural network architecture\n",
    "\n",
    "class NeuralNet(nn.Module):\n",
    "\n",
    "  def __init__(self, input_size, hidden_size, output_size):\n",
    "    super(NeuralNet, self).__init__()\n",
    "    self.fc1 = nn.Linear(input_size, hidden_size)\n",
    "    self.relu = nn.ReLU()\n",
    "    self.fc2 = nn.Linear(hidden_size, output_size)\n",
    "    self.sigmoid = nn.Sigmoid()\n",
    "\n",
    "  def forward(self, x):\n",
    "    out = self.fc1(x)\n",
    "    out = self.relu(out)\n",
    "    out = self.fc2(out)\n",
    "    out = self.sigmoid(out)\n",
    "    return out"
   ]
  },
  {
   "cell_type": "code",
   "execution_count": 12,
   "id": "050330fe",
   "metadata": {
    "execution": {
     "iopub.execute_input": "2025-01-20T10:39:05.791781Z",
     "iopub.status.busy": "2025-01-20T10:39:05.791435Z",
     "iopub.status.idle": "2025-01-20T10:39:05.795678Z",
     "shell.execute_reply": "2025-01-20T10:39:05.794668Z"
    },
    "id": "Ji9KwG2L4qKE",
    "papermill": {
     "duration": 0.011688,
     "end_time": "2025-01-20T10:39:05.797325",
     "exception": false,
     "start_time": "2025-01-20T10:39:05.785637",
     "status": "completed"
    },
    "tags": []
   },
   "outputs": [],
   "source": [
    "# define hyperparameters\n",
    "input_size = X_train.shape[1]\n",
    "hidden_size = 64\n",
    "output_size = 1\n",
    "learning_rate = 0.001\n",
    "num_epochs = 1000"
   ]
  },
  {
   "cell_type": "code",
   "execution_count": 13,
   "id": "6b2d14d6",
   "metadata": {
    "execution": {
     "iopub.execute_input": "2025-01-20T10:39:05.808876Z",
     "iopub.status.busy": "2025-01-20T10:39:05.808507Z",
     "iopub.status.idle": "2025-01-20T10:39:05.829280Z",
     "shell.execute_reply": "2025-01-20T10:39:05.828169Z"
    },
    "id": "A1vWq9fX8Ilh",
    "papermill": {
     "duration": 0.028736,
     "end_time": "2025-01-20T10:39:05.831266",
     "exception": false,
     "start_time": "2025-01-20T10:39:05.802530",
     "status": "completed"
    },
    "tags": []
   },
   "outputs": [],
   "source": [
    "# initialize the neural network and move it the GPU\n",
    "model = NeuralNet(input_size, hidden_size, output_size).to(device)"
   ]
  },
  {
   "cell_type": "code",
   "execution_count": 14,
   "id": "670028f0",
   "metadata": {
    "execution": {
     "iopub.execute_input": "2025-01-20T10:39:05.842863Z",
     "iopub.status.busy": "2025-01-20T10:39:05.842475Z",
     "iopub.status.idle": "2025-01-20T10:39:10.705767Z",
     "shell.execute_reply": "2025-01-20T10:39:10.704489Z"
    },
    "id": "0EZz4TbB8Y8q",
    "papermill": {
     "duration": 4.871188,
     "end_time": "2025-01-20T10:39:10.707679",
     "exception": false,
     "start_time": "2025-01-20T10:39:05.836491",
     "status": "completed"
    },
    "tags": []
   },
   "outputs": [],
   "source": [
    "# define loss and the optiizer\n",
    "criterion = nn.BCELoss()\n",
    "optimizer = optim.Adam(model.parameters(), lr=learning_rate)"
   ]
  },
  {
   "cell_type": "markdown",
   "id": "6dd514d5",
   "metadata": {
    "id": "gmOFZNMJ84Ll",
    "papermill": {
     "duration": 0.005173,
     "end_time": "2025-01-20T10:39:10.718928",
     "exception": false,
     "start_time": "2025-01-20T10:39:10.713755",
     "status": "completed"
    },
    "tags": []
   },
   "source": [
    "**Training the Neural Network**"
   ]
  },
  {
   "cell_type": "code",
   "execution_count": 15,
   "id": "0473ba36",
   "metadata": {
    "execution": {
     "iopub.execute_input": "2025-01-20T10:39:10.730830Z",
     "iopub.status.busy": "2025-01-20T10:39:10.730359Z",
     "iopub.status.idle": "2025-01-20T10:39:12.242037Z",
     "shell.execute_reply": "2025-01-20T10:39:12.240680Z"
    },
    "id": "19ZfT5OY819V",
    "outputId": "ab95eb11-0733-426e-b9b7-52e66c6ca04e",
    "papermill": {
     "duration": 1.519415,
     "end_time": "2025-01-20T10:39:12.243787",
     "exception": false,
     "start_time": "2025-01-20T10:39:10.724372",
     "status": "completed"
    },
    "tags": []
   },
   "outputs": [
    {
     "name": "stdout",
     "output_type": "stream",
     "text": [
      "Epoch [10/1000], Loss : 0.5686, Accuracy: 82.86%\n",
      "Epoch [20/1000], Loss : 0.4348, Accuracy: 93.85%\n",
      "Epoch [30/1000], Loss : 0.3399, Accuracy: 94.51%\n",
      "Epoch [40/1000], Loss : 0.2718, Accuracy: 95.38%\n",
      "Epoch [50/1000], Loss : 0.2229, Accuracy: 96.04%\n",
      "Epoch [60/1000], Loss : 0.1878, Accuracy: 96.92%\n",
      "Epoch [70/1000], Loss : 0.1623, Accuracy: 96.92%\n",
      "Epoch [80/1000], Loss : 0.1431, Accuracy: 97.36%\n",
      "Epoch [90/1000], Loss : 0.1283, Accuracy: 97.58%\n",
      "Epoch [100/1000], Loss : 0.1165, Accuracy: 98.02%\n",
      "Epoch [110/1000], Loss : 0.1070, Accuracy: 98.24%\n",
      "Epoch [120/1000], Loss : 0.0993, Accuracy: 98.24%\n",
      "Epoch [130/1000], Loss : 0.0928, Accuracy: 98.24%\n",
      "Epoch [140/1000], Loss : 0.0872, Accuracy: 98.24%\n",
      "Epoch [150/1000], Loss : 0.0824, Accuracy: 98.24%\n",
      "Epoch [160/1000], Loss : 0.0782, Accuracy: 98.24%\n",
      "Epoch [170/1000], Loss : 0.0746, Accuracy: 98.46%\n",
      "Epoch [180/1000], Loss : 0.0713, Accuracy: 98.46%\n",
      "Epoch [190/1000], Loss : 0.0684, Accuracy: 98.46%\n",
      "Epoch [200/1000], Loss : 0.0658, Accuracy: 98.46%\n",
      "Epoch [210/1000], Loss : 0.0633, Accuracy: 98.46%\n",
      "Epoch [220/1000], Loss : 0.0611, Accuracy: 98.46%\n",
      "Epoch [230/1000], Loss : 0.0591, Accuracy: 98.46%\n",
      "Epoch [240/1000], Loss : 0.0572, Accuracy: 98.46%\n",
      "Epoch [250/1000], Loss : 0.0554, Accuracy: 98.46%\n",
      "Epoch [260/1000], Loss : 0.0537, Accuracy: 98.46%\n",
      "Epoch [270/1000], Loss : 0.0521, Accuracy: 98.46%\n",
      "Epoch [280/1000], Loss : 0.0505, Accuracy: 98.68%\n",
      "Epoch [290/1000], Loss : 0.0491, Accuracy: 98.68%\n",
      "Epoch [300/1000], Loss : 0.0477, Accuracy: 98.68%\n",
      "Epoch [310/1000], Loss : 0.0464, Accuracy: 98.68%\n",
      "Epoch [320/1000], Loss : 0.0451, Accuracy: 99.12%\n",
      "Epoch [330/1000], Loss : 0.0439, Accuracy: 99.12%\n",
      "Epoch [340/1000], Loss : 0.0428, Accuracy: 99.12%\n",
      "Epoch [350/1000], Loss : 0.0417, Accuracy: 99.12%\n",
      "Epoch [360/1000], Loss : 0.0406, Accuracy: 99.12%\n",
      "Epoch [370/1000], Loss : 0.0396, Accuracy: 99.12%\n",
      "Epoch [380/1000], Loss : 0.0386, Accuracy: 99.12%\n",
      "Epoch [390/1000], Loss : 0.0376, Accuracy: 99.12%\n",
      "Epoch [400/1000], Loss : 0.0367, Accuracy: 99.34%\n",
      "Epoch [410/1000], Loss : 0.0358, Accuracy: 99.34%\n",
      "Epoch [420/1000], Loss : 0.0349, Accuracy: 99.34%\n",
      "Epoch [430/1000], Loss : 0.0340, Accuracy: 99.34%\n",
      "Epoch [440/1000], Loss : 0.0332, Accuracy: 99.34%\n",
      "Epoch [450/1000], Loss : 0.0323, Accuracy: 99.34%\n",
      "Epoch [460/1000], Loss : 0.0315, Accuracy: 99.34%\n",
      "Epoch [470/1000], Loss : 0.0308, Accuracy: 99.34%\n",
      "Epoch [480/1000], Loss : 0.0300, Accuracy: 99.34%\n",
      "Epoch [490/1000], Loss : 0.0293, Accuracy: 99.34%\n",
      "Epoch [500/1000], Loss : 0.0286, Accuracy: 99.34%\n",
      "Epoch [510/1000], Loss : 0.0279, Accuracy: 99.34%\n",
      "Epoch [520/1000], Loss : 0.0272, Accuracy: 99.34%\n",
      "Epoch [530/1000], Loss : 0.0265, Accuracy: 99.34%\n",
      "Epoch [540/1000], Loss : 0.0259, Accuracy: 99.34%\n",
      "Epoch [550/1000], Loss : 0.0252, Accuracy: 99.34%\n",
      "Epoch [560/1000], Loss : 0.0246, Accuracy: 99.34%\n",
      "Epoch [570/1000], Loss : 0.0240, Accuracy: 99.34%\n",
      "Epoch [580/1000], Loss : 0.0234, Accuracy: 99.34%\n",
      "Epoch [590/1000], Loss : 0.0228, Accuracy: 99.34%\n",
      "Epoch [600/1000], Loss : 0.0222, Accuracy: 99.34%\n",
      "Epoch [610/1000], Loss : 0.0217, Accuracy: 99.34%\n",
      "Epoch [620/1000], Loss : 0.0211, Accuracy: 99.34%\n",
      "Epoch [630/1000], Loss : 0.0206, Accuracy: 99.34%\n",
      "Epoch [640/1000], Loss : 0.0201, Accuracy: 99.34%\n",
      "Epoch [650/1000], Loss : 0.0196, Accuracy: 99.34%\n",
      "Epoch [660/1000], Loss : 0.0191, Accuracy: 99.34%\n",
      "Epoch [670/1000], Loss : 0.0186, Accuracy: 99.34%\n",
      "Epoch [680/1000], Loss : 0.0181, Accuracy: 99.34%\n",
      "Epoch [690/1000], Loss : 0.0177, Accuracy: 99.34%\n",
      "Epoch [700/1000], Loss : 0.0172, Accuracy: 99.34%\n",
      "Epoch [710/1000], Loss : 0.0168, Accuracy: 99.34%\n",
      "Epoch [720/1000], Loss : 0.0163, Accuracy: 99.34%\n",
      "Epoch [730/1000], Loss : 0.0159, Accuracy: 99.34%\n",
      "Epoch [740/1000], Loss : 0.0155, Accuracy: 99.34%\n",
      "Epoch [750/1000], Loss : 0.0151, Accuracy: 99.34%\n",
      "Epoch [760/1000], Loss : 0.0147, Accuracy: 99.34%\n",
      "Epoch [770/1000], Loss : 0.0144, Accuracy: 99.34%\n",
      "Epoch [780/1000], Loss : 0.0140, Accuracy: 99.34%\n",
      "Epoch [790/1000], Loss : 0.0137, Accuracy: 99.34%\n",
      "Epoch [800/1000], Loss : 0.0134, Accuracy: 99.56%\n",
      "Epoch [810/1000], Loss : 0.0130, Accuracy: 99.56%\n",
      "Epoch [820/1000], Loss : 0.0127, Accuracy: 99.56%\n",
      "Epoch [830/1000], Loss : 0.0124, Accuracy: 99.78%\n",
      "Epoch [840/1000], Loss : 0.0121, Accuracy: 99.78%\n",
      "Epoch [850/1000], Loss : 0.0118, Accuracy: 99.78%\n",
      "Epoch [860/1000], Loss : 0.0115, Accuracy: 99.78%\n",
      "Epoch [870/1000], Loss : 0.0113, Accuracy: 99.78%\n",
      "Epoch [880/1000], Loss : 0.0110, Accuracy: 99.78%\n",
      "Epoch [890/1000], Loss : 0.0108, Accuracy: 100.00%\n",
      "Epoch [900/1000], Loss : 0.0105, Accuracy: 100.00%\n",
      "Epoch [910/1000], Loss : 0.0103, Accuracy: 100.00%\n",
      "Epoch [920/1000], Loss : 0.0100, Accuracy: 100.00%\n",
      "Epoch [930/1000], Loss : 0.0098, Accuracy: 100.00%\n",
      "Epoch [940/1000], Loss : 0.0096, Accuracy: 100.00%\n",
      "Epoch [950/1000], Loss : 0.0094, Accuracy: 100.00%\n",
      "Epoch [960/1000], Loss : 0.0091, Accuracy: 100.00%\n",
      "Epoch [970/1000], Loss : 0.0089, Accuracy: 100.00%\n",
      "Epoch [980/1000], Loss : 0.0087, Accuracy: 100.00%\n",
      "Epoch [990/1000], Loss : 0.0085, Accuracy: 100.00%\n",
      "Epoch [1000/1000], Loss : 0.0083, Accuracy: 100.00%\n"
     ]
    }
   ],
   "source": [
    "# training the model\n",
    "for epoch in range(num_epochs):\n",
    "  model.train()\n",
    "  optimizer.zero_grad()\n",
    "  outputs = model(X_train)\n",
    "  loss = criterion(outputs, y_train.view(-1,1))\n",
    "  loss.backward()\n",
    "  optimizer.step()\n",
    "\n",
    "  # claculate accuracy\n",
    "  with torch.no_grad():\n",
    "    predicted = outputs.round()\n",
    "    correct = (predicted == y_train.view(-1,1)).float().sum()\n",
    "    accuracy = correct/y_train.size(0)\n",
    "\n",
    "  if (epoch+1) % 10 == 0:\n",
    "    print(f\"Epoch [{epoch+1}/{num_epochs}], Loss : {loss.item():.4f}, Accuracy: {accuracy.item() * 100:.2f}%\")"
   ]
  },
  {
   "cell_type": "markdown",
   "id": "26ddcf50",
   "metadata": {
    "id": "k9fymbOw_q7V",
    "papermill": {
     "duration": 0.0055,
     "end_time": "2025-01-20T10:39:12.255150",
     "exception": false,
     "start_time": "2025-01-20T10:39:12.249650",
     "status": "completed"
    },
    "tags": []
   },
   "source": [
    "**Model Evaluation**"
   ]
  },
  {
   "cell_type": "code",
   "execution_count": 16,
   "id": "5479b625",
   "metadata": {
    "execution": {
     "iopub.execute_input": "2025-01-20T10:39:12.269301Z",
     "iopub.status.busy": "2025-01-20T10:39:12.268868Z",
     "iopub.status.idle": "2025-01-20T10:39:12.276489Z",
     "shell.execute_reply": "2025-01-20T10:39:12.275209Z"
    },
    "id": "t6ckSYVl_a3x",
    "outputId": "e6271db1-1812-435e-aa48-d58ef5ac6810",
    "papermill": {
     "duration": 0.017256,
     "end_time": "2025-01-20T10:39:12.278323",
     "exception": false,
     "start_time": "2025-01-20T10:39:12.261067",
     "status": "completed"
    },
    "tags": []
   },
   "outputs": [
    {
     "name": "stdout",
     "output_type": "stream",
     "text": [
      "Accuracy on training data: 100.00%\n"
     ]
    }
   ],
   "source": [
    "# evaluation on training set\n",
    "model.eval()\n",
    "with torch.no_grad():\n",
    "  outputs = model(X_train)\n",
    "  predicted = outputs.round()\n",
    "  correct = (predicted == y_train.view(-1,1)).float().sum()\n",
    "  accuracy = correct/y_train.size(0)\n",
    "  print(f\"Accuracy on training data: {accuracy.item() * 100:.2f}%\")"
   ]
  },
  {
   "cell_type": "code",
   "execution_count": 17,
   "id": "93eac849",
   "metadata": {
    "execution": {
     "iopub.execute_input": "2025-01-20T10:39:12.292121Z",
     "iopub.status.busy": "2025-01-20T10:39:12.291608Z",
     "iopub.status.idle": "2025-01-20T10:39:12.298557Z",
     "shell.execute_reply": "2025-01-20T10:39:12.297587Z"
    },
    "id": "VVa6JW3JAUkl",
    "outputId": "4e5cb48a-2d18-4828-9ed0-8d17897bea2a",
    "papermill": {
     "duration": 0.015562,
     "end_time": "2025-01-20T10:39:12.300004",
     "exception": false,
     "start_time": "2025-01-20T10:39:12.284442",
     "status": "completed"
    },
    "tags": []
   },
   "outputs": [
    {
     "name": "stdout",
     "output_type": "stream",
     "text": [
      "Accuracy on test data: 97.37%\n"
     ]
    }
   ],
   "source": [
    "# evaluation on test set\n",
    "model.eval()\n",
    "with torch.no_grad():\n",
    "  outputs = model(X_test)\n",
    "  predicted = outputs.round()\n",
    "  correct = (predicted == y_test.view(-1,1)).float().sum()\n",
    "  accuracy = correct/y_test.size(0)\n",
    "  print(f\"Accuracy on test data: {accuracy.item() * 100:.2f}%\")"
   ]
  },
  {
   "cell_type": "code",
   "execution_count": null,
   "id": "2fcd2d9f",
   "metadata": {
    "id": "oyXX4KtAAdDQ",
    "papermill": {
     "duration": 0.005482,
     "end_time": "2025-01-20T10:39:12.311747",
     "exception": false,
     "start_time": "2025-01-20T10:39:12.306265",
     "status": "completed"
    },
    "tags": []
   },
   "outputs": [],
   "source": []
  }
 ],
 "metadata": {
  "accelerator": "GPU",
  "colab": {
   "gpuType": "T4",
   "provenance": []
  },
  "kaggle": {
   "accelerator": "none",
   "dataSources": [],
   "dockerImageVersionId": 30839,
   "isGpuEnabled": false,
   "isInternetEnabled": true,
   "language": "python",
   "sourceType": "notebook"
  },
  "kernelspec": {
   "display_name": "Python 3",
   "language": "python",
   "name": "python3"
  },
  "language_info": {
   "codemirror_mode": {
    "name": "ipython",
    "version": 3
   },
   "file_extension": ".py",
   "mimetype": "text/x-python",
   "name": "python",
   "nbconvert_exporter": "python",
   "pygments_lexer": "ipython3",
   "version": "3.10.12"
  },
  "papermill": {
   "default_parameters": {},
   "duration": 17.585366,
   "end_time": "2025-01-20T10:39:14.715655",
   "environment_variables": {},
   "exception": null,
   "input_path": "__notebook__.ipynb",
   "output_path": "__notebook__.ipynb",
   "parameters": {},
   "start_time": "2025-01-20T10:38:57.130289",
   "version": "2.6.0"
  }
 },
 "nbformat": 4,
 "nbformat_minor": 5
}
