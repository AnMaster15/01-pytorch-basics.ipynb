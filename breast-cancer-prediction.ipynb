{
 "cells": [
  {
   "cell_type": "markdown",
   "id": "0a37be91",
   "metadata": {
    "id": "50GY2nZi0yvm",
    "papermill": {
     "duration": 0.0052,
     "end_time": "2025-01-20T10:38:26.633071",
     "exception": false,
     "start_time": "2025-01-20T10:38:26.627871",
     "status": "completed"
    },
    "tags": []
   },
   "source": [
    "**Importing the Dependencies**"
   ]
  },
  {
   "cell_type": "code",
   "execution_count": 1,
   "id": "18561dfa",
   "metadata": {
    "execution": {
     "iopub.execute_input": "2025-01-20T10:38:26.643377Z",
     "iopub.status.busy": "2025-01-20T10:38:26.642998Z",
     "iopub.status.idle": "2025-01-20T10:38:32.079081Z",
     "shell.execute_reply": "2025-01-20T10:38:32.078192Z"
    },
    "id": "3UqJ7q-bmvK2",
    "papermill": {
     "duration": 5.443281,
     "end_time": "2025-01-20T10:38:32.080984",
     "exception": false,
     "start_time": "2025-01-20T10:38:26.637703",
     "status": "completed"
    },
    "tags": []
   },
   "outputs": [],
   "source": [
    "import torch\n",
    "import torch.nn as nn\n",
    "import torch.optim as optim\n",
    "from sklearn.datasets import load_breast_cancer\n",
    "from sklearn.model_selection import train_test_split\n",
    "from sklearn.preprocessing import StandardScaler"
   ]
  },
  {
   "cell_type": "markdown",
   "id": "17d26782",
   "metadata": {
    "id": "AQxTh4r51UNc",
    "papermill": {
     "duration": 0.004211,
     "end_time": "2025-01-20T10:38:32.090004",
     "exception": false,
     "start_time": "2025-01-20T10:38:32.085793",
     "status": "completed"
    },
    "tags": []
   },
   "source": [
    "**Device Configuration**"
   ]
  },
  {
   "cell_type": "code",
   "execution_count": 2,
   "id": "0641a8db",
   "metadata": {
    "execution": {
     "iopub.execute_input": "2025-01-20T10:38:32.100223Z",
     "iopub.status.busy": "2025-01-20T10:38:32.099766Z",
     "iopub.status.idle": "2025-01-20T10:38:32.109117Z",
     "shell.execute_reply": "2025-01-20T10:38:32.108002Z"
    },
    "id": "LjGJ5Ov01PO4",
    "outputId": "d126bf6b-f178-415c-e149-046b4d6823ce",
    "papermill": {
     "duration": 0.016356,
     "end_time": "2025-01-20T10:38:32.110757",
     "exception": false,
     "start_time": "2025-01-20T10:38:32.094401",
     "status": "completed"
    },
    "tags": []
   },
   "outputs": [
    {
     "name": "stdout",
     "output_type": "stream",
     "text": [
      "Using device: cpu\n"
     ]
    }
   ],
   "source": [
    "# check for CUDA availability\n",
    "device = torch.device(\"cuda\" if torch.cuda.is_available() else \"cpu\")\n",
    "print(f\"Using device: {device}\")"
   ]
  },
  {
   "cell_type": "markdown",
   "id": "b6fd395b",
   "metadata": {
    "id": "ftLIW-gb12xD",
    "papermill": {
     "duration": 0.004229,
     "end_time": "2025-01-20T10:38:32.119698",
     "exception": false,
     "start_time": "2025-01-20T10:38:32.115469",
     "status": "completed"
    },
    "tags": []
   },
   "source": [
    "**Data Collection and preprocessing**"
   ]
  },
  {
   "cell_type": "code",
   "execution_count": 3,
   "id": "78627813",
   "metadata": {
    "execution": {
     "iopub.execute_input": "2025-01-20T10:38:32.130046Z",
     "iopub.status.busy": "2025-01-20T10:38:32.129667Z",
     "iopub.status.idle": "2025-01-20T10:38:32.147046Z",
     "shell.execute_reply": "2025-01-20T10:38:32.145964Z"
    },
    "id": "Nhg-xdu51zTC",
    "papermill": {
     "duration": 0.024807,
     "end_time": "2025-01-20T10:38:32.149061",
     "exception": false,
     "start_time": "2025-01-20T10:38:32.124254",
     "status": "completed"
    },
    "tags": []
   },
   "outputs": [],
   "source": [
    "# load the breast cancer dataset\n",
    "data = load_breast_cancer()\n",
    "X = data.data\n",
    "y = data.target"
   ]
  },
  {
   "cell_type": "code",
   "execution_count": 4,
   "id": "939f68df",
   "metadata": {
    "execution": {
     "iopub.execute_input": "2025-01-20T10:38:32.159977Z",
     "iopub.status.busy": "2025-01-20T10:38:32.159664Z",
     "iopub.status.idle": "2025-01-20T10:38:32.165183Z",
     "shell.execute_reply": "2025-01-20T10:38:32.164022Z"
    },
    "id": "d3Zay_xP2GDM",
    "outputId": "d5005de0-be25-4a34-98e0-9c0d470b2abb",
    "papermill": {
     "duration": 0.012718,
     "end_time": "2025-01-20T10:38:32.166691",
     "exception": false,
     "start_time": "2025-01-20T10:38:32.153973",
     "status": "completed"
    },
    "tags": []
   },
   "outputs": [
    {
     "name": "stdout",
     "output_type": "stream",
     "text": [
      "[[1.799e+01 1.038e+01 1.228e+02 ... 2.654e-01 4.601e-01 1.189e-01]\n",
      " [2.057e+01 1.777e+01 1.329e+02 ... 1.860e-01 2.750e-01 8.902e-02]\n",
      " [1.969e+01 2.125e+01 1.300e+02 ... 2.430e-01 3.613e-01 8.758e-02]\n",
      " ...\n",
      " [1.660e+01 2.808e+01 1.083e+02 ... 1.418e-01 2.218e-01 7.820e-02]\n",
      " [2.060e+01 2.933e+01 1.401e+02 ... 2.650e-01 4.087e-01 1.240e-01]\n",
      " [7.760e+00 2.454e+01 4.792e+01 ... 0.000e+00 2.871e-01 7.039e-02]]\n"
     ]
    }
   ],
   "source": [
    "print(X)"
   ]
  },
  {
   "cell_type": "code",
   "execution_count": 5,
   "id": "bc6eb18b",
   "metadata": {
    "execution": {
     "iopub.execute_input": "2025-01-20T10:38:32.177496Z",
     "iopub.status.busy": "2025-01-20T10:38:32.177130Z",
     "iopub.status.idle": "2025-01-20T10:38:32.183218Z",
     "shell.execute_reply": "2025-01-20T10:38:32.182226Z"
    },
    "id": "5UYtJHLG2H9w",
    "outputId": "2d5684ce-3614-4b78-b449-59beb0020843",
    "papermill": {
     "duration": 0.013012,
     "end_time": "2025-01-20T10:38:32.184626",
     "exception": false,
     "start_time": "2025-01-20T10:38:32.171614",
     "status": "completed"
    },
    "tags": []
   },
   "outputs": [
    {
     "name": "stdout",
     "output_type": "stream",
     "text": [
      "[0 0 0 0 0]\n"
     ]
    }
   ],
   "source": [
    "print(y[:5])"
   ]
  },
  {
   "cell_type": "code",
   "execution_count": 6,
   "id": "07a3f4ab",
   "metadata": {
    "execution": {
     "iopub.execute_input": "2025-01-20T10:38:32.195165Z",
     "iopub.status.busy": "2025-01-20T10:38:32.194857Z",
     "iopub.status.idle": "2025-01-20T10:38:32.200684Z",
     "shell.execute_reply": "2025-01-20T10:38:32.199939Z"
    },
    "id": "TeC15_m-2JW9",
    "papermill": {
     "duration": 0.012629,
     "end_time": "2025-01-20T10:38:32.202137",
     "exception": false,
     "start_time": "2025-01-20T10:38:32.189508",
     "status": "completed"
    },
    "tags": []
   },
   "outputs": [],
   "source": [
    "# split the dataset into training and test set\n",
    "X_train, X_test, y_train, y_test = train_test_split(X, y, test_size=0.2, random_state=42)"
   ]
  },
  {
   "cell_type": "code",
   "execution_count": 7,
   "id": "81edf1f8",
   "metadata": {
    "execution": {
     "iopub.execute_input": "2025-01-20T10:38:32.213013Z",
     "iopub.status.busy": "2025-01-20T10:38:32.212707Z",
     "iopub.status.idle": "2025-01-20T10:38:32.217569Z",
     "shell.execute_reply": "2025-01-20T10:38:32.216424Z"
    },
    "id": "TsJNpN-72cbv",
    "outputId": "de9649bb-215c-46d5-9e74-19c865bccf02",
    "papermill": {
     "duration": 0.012036,
     "end_time": "2025-01-20T10:38:32.219042",
     "exception": false,
     "start_time": "2025-01-20T10:38:32.207006",
     "status": "completed"
    },
    "tags": []
   },
   "outputs": [
    {
     "name": "stdout",
     "output_type": "stream",
     "text": [
      "(569, 30)\n",
      "(455, 30)\n",
      "(114, 30)\n"
     ]
    }
   ],
   "source": [
    "print(X.shape)\n",
    "print(X_train.shape)\n",
    "print(X_test.shape)"
   ]
  },
  {
   "cell_type": "code",
   "execution_count": 8,
   "id": "0c46fa76",
   "metadata": {
    "execution": {
     "iopub.execute_input": "2025-01-20T10:38:32.229984Z",
     "iopub.status.busy": "2025-01-20T10:38:32.229652Z",
     "iopub.status.idle": "2025-01-20T10:38:32.249286Z",
     "shell.execute_reply": "2025-01-20T10:38:32.248484Z"
    },
    "id": "fl5FAzc-2iNS",
    "papermill": {
     "duration": 0.027114,
     "end_time": "2025-01-20T10:38:32.251101",
     "exception": false,
     "start_time": "2025-01-20T10:38:32.223987",
     "status": "completed"
    },
    "tags": []
   },
   "outputs": [],
   "source": [
    "# standardize the data using Standard sclaer\n",
    "scaler = StandardScaler()\n",
    "\n",
    "X_train = scaler.fit_transform(X_train)\n",
    "X_test = scaler.transform(X_test)"
   ]
  },
  {
   "cell_type": "code",
   "execution_count": 9,
   "id": "fa79c58b",
   "metadata": {
    "execution": {
     "iopub.execute_input": "2025-01-20T10:38:32.261916Z",
     "iopub.status.busy": "2025-01-20T10:38:32.261597Z",
     "iopub.status.idle": "2025-01-20T10:38:32.267994Z",
     "shell.execute_reply": "2025-01-20T10:38:32.266963Z"
    },
    "id": "6vHNjJQX3HRr",
    "outputId": "5d537bcd-8c3b-41b9-e719-f8d7e32e62f8",
    "papermill": {
     "duration": 0.013661,
     "end_time": "2025-01-20T10:38:32.269650",
     "exception": false,
     "start_time": "2025-01-20T10:38:32.255989",
     "status": "completed"
    },
    "tags": []
   },
   "outputs": [
    {
     "data": {
      "text/plain": [
       "numpy.ndarray"
      ]
     },
     "execution_count": 9,
     "metadata": {},
     "output_type": "execute_result"
    }
   ],
   "source": [
    "type(X_train)"
   ]
  },
  {
   "cell_type": "code",
   "execution_count": 10,
   "id": "2c9515c0",
   "metadata": {
    "execution": {
     "iopub.execute_input": "2025-01-20T10:38:32.280817Z",
     "iopub.status.busy": "2025-01-20T10:38:32.280488Z",
     "iopub.status.idle": "2025-01-20T10:38:32.317258Z",
     "shell.execute_reply": "2025-01-20T10:38:32.316472Z"
    },
    "id": "vaGLX4ye3Kab",
    "papermill": {
     "duration": 0.044266,
     "end_time": "2025-01-20T10:38:32.318993",
     "exception": false,
     "start_time": "2025-01-20T10:38:32.274727",
     "status": "completed"
    },
    "tags": []
   },
   "outputs": [],
   "source": [
    "# convert data to PyTorch tensors and move it to GPU\n",
    "X_train = torch.tensor(X_train, dtype=torch.float32).to(device)\n",
    "y_train = torch.tensor(y_train, dtype=torch.float32).to(device)\n",
    "X_test = torch.tensor(X_test, dtype=torch.float32).to(device)\n",
    "y_test = torch.tensor(y_test, dtype=torch.float32).to(device)"
   ]
  },
  {
   "cell_type": "markdown",
   "id": "b33b14de",
   "metadata": {
    "id": "oe8WXW1a4JHP",
    "papermill": {
     "duration": 0.004787,
     "end_time": "2025-01-20T10:38:32.328909",
     "exception": false,
     "start_time": "2025-01-20T10:38:32.324122",
     "status": "completed"
    },
    "tags": []
   },
   "source": [
    "**Neural Network Architecture**"
   ]
  },
  {
   "cell_type": "code",
   "execution_count": 11,
   "id": "fa07f40b",
   "metadata": {
    "execution": {
     "iopub.execute_input": "2025-01-20T10:38:32.340053Z",
     "iopub.status.busy": "2025-01-20T10:38:32.339711Z",
     "iopub.status.idle": "2025-01-20T10:38:32.345222Z",
     "shell.execute_reply": "2025-01-20T10:38:32.344390Z"
    },
    "id": "2BnIGZRV4CfC",
    "papermill": {
     "duration": 0.012764,
     "end_time": "2025-01-20T10:38:32.346719",
     "exception": false,
     "start_time": "2025-01-20T10:38:32.333955",
     "status": "completed"
    },
    "tags": []
   },
   "outputs": [],
   "source": [
    "# define the neural network architecture\n",
    "\n",
    "class NeuralNet(nn.Module):\n",
    "\n",
    "  def __init__(self, input_size, hidden_size, output_size):\n",
    "    super(NeuralNet, self).__init__()\n",
    "    self.fc1 = nn.Linear(input_size, hidden_size)\n",
    "    self.relu = nn.ReLU()\n",
    "    self.fc2 = nn.Linear(hidden_size, output_size)\n",
    "    self.sigmoid = nn.Sigmoid()\n",
    "\n",
    "  def forward(self, x):\n",
    "    out = self.fc1(x)\n",
    "    out = self.relu(out)\n",
    "    out = self.fc2(out)\n",
    "    out = self.sigmoid(out)\n",
    "    return out"
   ]
  },
  {
   "cell_type": "code",
   "execution_count": 12,
   "id": "45df0ab4",
   "metadata": {
    "execution": {
     "iopub.execute_input": "2025-01-20T10:38:32.357651Z",
     "iopub.status.busy": "2025-01-20T10:38:32.357238Z",
     "iopub.status.idle": "2025-01-20T10:38:32.361614Z",
     "shell.execute_reply": "2025-01-20T10:38:32.360610Z"
    },
    "id": "Ji9KwG2L4qKE",
    "papermill": {
     "duration": 0.011571,
     "end_time": "2025-01-20T10:38:32.363277",
     "exception": false,
     "start_time": "2025-01-20T10:38:32.351706",
     "status": "completed"
    },
    "tags": []
   },
   "outputs": [],
   "source": [
    "# define hyperparameters\n",
    "input_size = X_train.shape[1]\n",
    "hidden_size = 64\n",
    "output_size = 1\n",
    "learning_rate = 0.001\n",
    "num_epochs = 1000"
   ]
  },
  {
   "cell_type": "code",
   "execution_count": 13,
   "id": "cdf13e2a",
   "metadata": {
    "execution": {
     "iopub.execute_input": "2025-01-20T10:38:32.374484Z",
     "iopub.status.busy": "2025-01-20T10:38:32.374118Z",
     "iopub.status.idle": "2025-01-20T10:38:32.393574Z",
     "shell.execute_reply": "2025-01-20T10:38:32.392692Z"
    },
    "id": "A1vWq9fX8Ilh",
    "papermill": {
     "duration": 0.026959,
     "end_time": "2025-01-20T10:38:32.395285",
     "exception": false,
     "start_time": "2025-01-20T10:38:32.368326",
     "status": "completed"
    },
    "tags": []
   },
   "outputs": [],
   "source": [
    "# initialize the neural network and move it the GPU\n",
    "model = NeuralNet(input_size, hidden_size, output_size).to(device)"
   ]
  },
  {
   "cell_type": "code",
   "execution_count": 14,
   "id": "9653b9a3",
   "metadata": {
    "execution": {
     "iopub.execute_input": "2025-01-20T10:38:32.406594Z",
     "iopub.status.busy": "2025-01-20T10:38:32.406241Z",
     "iopub.status.idle": "2025-01-20T10:38:36.948522Z",
     "shell.execute_reply": "2025-01-20T10:38:36.947557Z"
    },
    "id": "0EZz4TbB8Y8q",
    "papermill": {
     "duration": 4.549913,
     "end_time": "2025-01-20T10:38:36.950412",
     "exception": false,
     "start_time": "2025-01-20T10:38:32.400499",
     "status": "completed"
    },
    "tags": []
   },
   "outputs": [],
   "source": [
    "# define loss and the optiizer\n",
    "criterion = nn.BCELoss()\n",
    "optimizer = optim.Adam(model.parameters(), lr=learning_rate)"
   ]
  },
  {
   "cell_type": "markdown",
   "id": "57b35f26",
   "metadata": {
    "id": "gmOFZNMJ84Ll",
    "papermill": {
     "duration": 0.004792,
     "end_time": "2025-01-20T10:38:36.960429",
     "exception": false,
     "start_time": "2025-01-20T10:38:36.955637",
     "status": "completed"
    },
    "tags": []
   },
   "source": [
    "**Training the Neural Network**"
   ]
  },
  {
   "cell_type": "code",
   "execution_count": 15,
   "id": "c2368403",
   "metadata": {
    "execution": {
     "iopub.execute_input": "2025-01-20T10:38:36.971568Z",
     "iopub.status.busy": "2025-01-20T10:38:36.971048Z",
     "iopub.status.idle": "2025-01-20T10:38:38.516080Z",
     "shell.execute_reply": "2025-01-20T10:38:38.514557Z"
    },
    "id": "19ZfT5OY819V",
    "outputId": "ab95eb11-0733-426e-b9b7-52e66c6ca04e",
    "papermill": {
     "duration": 1.552542,
     "end_time": "2025-01-20T10:38:38.517925",
     "exception": false,
     "start_time": "2025-01-20T10:38:36.965383",
     "status": "completed"
    },
    "tags": []
   },
   "outputs": [
    {
     "name": "stdout",
     "output_type": "stream",
     "text": [
      "Epoch [10/1000], Loss : 0.5849, Accuracy: 75.38%\n",
      "Epoch [20/1000], Loss : 0.4705, Accuracy: 90.55%\n",
      "Epoch [30/1000], Loss : 0.3799, Accuracy: 93.63%\n",
      "Epoch [40/1000], Loss : 0.3059, Accuracy: 94.51%\n",
      "Epoch [50/1000], Loss : 0.2480, Accuracy: 95.60%\n",
      "Epoch [60/1000], Loss : 0.2049, Accuracy: 96.04%\n",
      "Epoch [70/1000], Loss : 0.1734, Accuracy: 96.92%\n",
      "Epoch [80/1000], Loss : 0.1503, Accuracy: 97.36%\n",
      "Epoch [90/1000], Loss : 0.1330, Accuracy: 97.80%\n",
      "Epoch [100/1000], Loss : 0.1197, Accuracy: 98.24%\n",
      "Epoch [110/1000], Loss : 0.1092, Accuracy: 98.24%\n",
      "Epoch [120/1000], Loss : 0.1008, Accuracy: 98.46%\n",
      "Epoch [130/1000], Loss : 0.0940, Accuracy: 98.46%\n",
      "Epoch [140/1000], Loss : 0.0882, Accuracy: 98.46%\n",
      "Epoch [150/1000], Loss : 0.0833, Accuracy: 98.68%\n",
      "Epoch [160/1000], Loss : 0.0791, Accuracy: 98.68%\n",
      "Epoch [170/1000], Loss : 0.0754, Accuracy: 98.68%\n",
      "Epoch [180/1000], Loss : 0.0721, Accuracy: 98.68%\n",
      "Epoch [190/1000], Loss : 0.0691, Accuracy: 98.68%\n",
      "Epoch [200/1000], Loss : 0.0665, Accuracy: 98.46%\n",
      "Epoch [210/1000], Loss : 0.0641, Accuracy: 98.46%\n",
      "Epoch [220/1000], Loss : 0.0619, Accuracy: 98.46%\n",
      "Epoch [230/1000], Loss : 0.0598, Accuracy: 98.46%\n",
      "Epoch [240/1000], Loss : 0.0579, Accuracy: 98.46%\n",
      "Epoch [250/1000], Loss : 0.0562, Accuracy: 98.46%\n",
      "Epoch [260/1000], Loss : 0.0546, Accuracy: 98.46%\n",
      "Epoch [270/1000], Loss : 0.0530, Accuracy: 98.46%\n",
      "Epoch [280/1000], Loss : 0.0516, Accuracy: 98.46%\n",
      "Epoch [290/1000], Loss : 0.0502, Accuracy: 98.68%\n",
      "Epoch [300/1000], Loss : 0.0489, Accuracy: 98.68%\n",
      "Epoch [310/1000], Loss : 0.0476, Accuracy: 98.90%\n",
      "Epoch [320/1000], Loss : 0.0463, Accuracy: 98.90%\n",
      "Epoch [330/1000], Loss : 0.0451, Accuracy: 98.90%\n",
      "Epoch [340/1000], Loss : 0.0440, Accuracy: 98.90%\n",
      "Epoch [350/1000], Loss : 0.0429, Accuracy: 99.12%\n",
      "Epoch [360/1000], Loss : 0.0418, Accuracy: 99.12%\n",
      "Epoch [370/1000], Loss : 0.0407, Accuracy: 99.12%\n",
      "Epoch [380/1000], Loss : 0.0396, Accuracy: 99.12%\n",
      "Epoch [390/1000], Loss : 0.0386, Accuracy: 99.34%\n",
      "Epoch [400/1000], Loss : 0.0375, Accuracy: 99.34%\n",
      "Epoch [410/1000], Loss : 0.0365, Accuracy: 99.34%\n",
      "Epoch [420/1000], Loss : 0.0356, Accuracy: 99.34%\n",
      "Epoch [430/1000], Loss : 0.0346, Accuracy: 99.34%\n",
      "Epoch [440/1000], Loss : 0.0337, Accuracy: 99.34%\n",
      "Epoch [450/1000], Loss : 0.0328, Accuracy: 99.34%\n",
      "Epoch [460/1000], Loss : 0.0319, Accuracy: 99.34%\n",
      "Epoch [470/1000], Loss : 0.0310, Accuracy: 99.34%\n",
      "Epoch [480/1000], Loss : 0.0301, Accuracy: 99.34%\n",
      "Epoch [490/1000], Loss : 0.0293, Accuracy: 99.34%\n",
      "Epoch [500/1000], Loss : 0.0285, Accuracy: 99.34%\n",
      "Epoch [510/1000], Loss : 0.0277, Accuracy: 99.34%\n",
      "Epoch [520/1000], Loss : 0.0269, Accuracy: 99.34%\n",
      "Epoch [530/1000], Loss : 0.0261, Accuracy: 99.34%\n",
      "Epoch [540/1000], Loss : 0.0254, Accuracy: 99.34%\n",
      "Epoch [550/1000], Loss : 0.0247, Accuracy: 99.34%\n",
      "Epoch [560/1000], Loss : 0.0240, Accuracy: 99.34%\n",
      "Epoch [570/1000], Loss : 0.0233, Accuracy: 99.34%\n",
      "Epoch [580/1000], Loss : 0.0226, Accuracy: 99.34%\n",
      "Epoch [590/1000], Loss : 0.0220, Accuracy: 99.34%\n",
      "Epoch [600/1000], Loss : 0.0214, Accuracy: 99.34%\n",
      "Epoch [610/1000], Loss : 0.0207, Accuracy: 99.34%\n",
      "Epoch [620/1000], Loss : 0.0201, Accuracy: 99.34%\n",
      "Epoch [630/1000], Loss : 0.0195, Accuracy: 99.34%\n",
      "Epoch [640/1000], Loss : 0.0190, Accuracy: 99.34%\n",
      "Epoch [650/1000], Loss : 0.0185, Accuracy: 99.34%\n",
      "Epoch [660/1000], Loss : 0.0179, Accuracy: 99.34%\n",
      "Epoch [670/1000], Loss : 0.0174, Accuracy: 99.34%\n",
      "Epoch [680/1000], Loss : 0.0169, Accuracy: 99.34%\n",
      "Epoch [690/1000], Loss : 0.0165, Accuracy: 99.34%\n",
      "Epoch [700/1000], Loss : 0.0160, Accuracy: 99.34%\n",
      "Epoch [710/1000], Loss : 0.0155, Accuracy: 99.34%\n",
      "Epoch [720/1000], Loss : 0.0151, Accuracy: 99.34%\n",
      "Epoch [730/1000], Loss : 0.0147, Accuracy: 99.34%\n",
      "Epoch [740/1000], Loss : 0.0143, Accuracy: 99.56%\n",
      "Epoch [750/1000], Loss : 0.0139, Accuracy: 99.56%\n",
      "Epoch [760/1000], Loss : 0.0135, Accuracy: 99.56%\n",
      "Epoch [770/1000], Loss : 0.0131, Accuracy: 99.56%\n",
      "Epoch [780/1000], Loss : 0.0128, Accuracy: 99.78%\n",
      "Epoch [790/1000], Loss : 0.0124, Accuracy: 99.78%\n",
      "Epoch [800/1000], Loss : 0.0121, Accuracy: 99.78%\n",
      "Epoch [810/1000], Loss : 0.0118, Accuracy: 99.78%\n",
      "Epoch [820/1000], Loss : 0.0115, Accuracy: 99.78%\n",
      "Epoch [830/1000], Loss : 0.0112, Accuracy: 99.78%\n",
      "Epoch [840/1000], Loss : 0.0109, Accuracy: 99.78%\n",
      "Epoch [850/1000], Loss : 0.0106, Accuracy: 99.78%\n",
      "Epoch [860/1000], Loss : 0.0104, Accuracy: 99.78%\n",
      "Epoch [870/1000], Loss : 0.0101, Accuracy: 99.78%\n",
      "Epoch [880/1000], Loss : 0.0099, Accuracy: 99.78%\n",
      "Epoch [890/1000], Loss : 0.0096, Accuracy: 100.00%\n",
      "Epoch [900/1000], Loss : 0.0094, Accuracy: 100.00%\n",
      "Epoch [910/1000], Loss : 0.0091, Accuracy: 100.00%\n",
      "Epoch [920/1000], Loss : 0.0089, Accuracy: 100.00%\n",
      "Epoch [930/1000], Loss : 0.0087, Accuracy: 100.00%\n",
      "Epoch [940/1000], Loss : 0.0085, Accuracy: 100.00%\n",
      "Epoch [950/1000], Loss : 0.0083, Accuracy: 100.00%\n",
      "Epoch [960/1000], Loss : 0.0081, Accuracy: 100.00%\n",
      "Epoch [970/1000], Loss : 0.0079, Accuracy: 100.00%\n",
      "Epoch [980/1000], Loss : 0.0077, Accuracy: 100.00%\n",
      "Epoch [990/1000], Loss : 0.0075, Accuracy: 100.00%\n",
      "Epoch [1000/1000], Loss : 0.0074, Accuracy: 100.00%\n"
     ]
    }
   ],
   "source": [
    "# training the model\n",
    "for epoch in range(num_epochs):\n",
    "  model.train()\n",
    "  optimizer.zero_grad()\n",
    "  outputs = model(X_train)\n",
    "  loss = criterion(outputs, y_train.view(-1,1))\n",
    "  loss.backward()\n",
    "  optimizer.step()\n",
    "\n",
    "  # claculate accuracy\n",
    "  with torch.no_grad():\n",
    "    predicted = outputs.round()\n",
    "    correct = (predicted == y_train.view(-1,1)).float().sum()\n",
    "    accuracy = correct/y_train.size(0)\n",
    "\n",
    "  if (epoch+1) % 10 == 0:\n",
    "    print(f\"Epoch [{epoch+1}/{num_epochs}], Loss : {loss.item():.4f}, Accuracy: {accuracy.item() * 100:.2f}%\")"
   ]
  },
  {
   "cell_type": "markdown",
   "id": "332f53ec",
   "metadata": {
    "id": "k9fymbOw_q7V",
    "papermill": {
     "duration": 0.005251,
     "end_time": "2025-01-20T10:38:38.528889",
     "exception": false,
     "start_time": "2025-01-20T10:38:38.523638",
     "status": "completed"
    },
    "tags": []
   },
   "source": [
    "**Model Evaluation**"
   ]
  },
  {
   "cell_type": "code",
   "execution_count": 16,
   "id": "da216867",
   "metadata": {
    "execution": {
     "iopub.execute_input": "2025-01-20T10:38:38.541501Z",
     "iopub.status.busy": "2025-01-20T10:38:38.541111Z",
     "iopub.status.idle": "2025-01-20T10:38:38.547838Z",
     "shell.execute_reply": "2025-01-20T10:38:38.546945Z"
    },
    "id": "t6ckSYVl_a3x",
    "outputId": "e6271db1-1812-435e-aa48-d58ef5ac6810",
    "papermill": {
     "duration": 0.014412,
     "end_time": "2025-01-20T10:38:38.549237",
     "exception": false,
     "start_time": "2025-01-20T10:38:38.534825",
     "status": "completed"
    },
    "tags": []
   },
   "outputs": [
    {
     "name": "stdout",
     "output_type": "stream",
     "text": [
      "Accuracy on training data: 100.00%\n"
     ]
    }
   ],
   "source": [
    "# evaluation on training set\n",
    "model.eval()\n",
    "with torch.no_grad():\n",
    "  outputs = model(X_train)\n",
    "  predicted = outputs.round()\n",
    "  correct = (predicted == y_train.view(-1,1)).float().sum()\n",
    "  accuracy = correct/y_train.size(0)\n",
    "  print(f\"Accuracy on training data: {accuracy.item() * 100:.2f}%\")"
   ]
  },
  {
   "cell_type": "code",
   "execution_count": 17,
   "id": "46489cb9",
   "metadata": {
    "execution": {
     "iopub.execute_input": "2025-01-20T10:38:38.564558Z",
     "iopub.status.busy": "2025-01-20T10:38:38.564143Z",
     "iopub.status.idle": "2025-01-20T10:38:38.571320Z",
     "shell.execute_reply": "2025-01-20T10:38:38.570144Z"
    },
    "id": "VVa6JW3JAUkl",
    "outputId": "4e5cb48a-2d18-4828-9ed0-8d17897bea2a",
    "papermill": {
     "duration": 0.016502,
     "end_time": "2025-01-20T10:38:38.572989",
     "exception": false,
     "start_time": "2025-01-20T10:38:38.556487",
     "status": "completed"
    },
    "tags": []
   },
   "outputs": [
    {
     "name": "stdout",
     "output_type": "stream",
     "text": [
      "Accuracy on test data: 96.49%\n"
     ]
    }
   ],
   "source": [
    "# evaluation on test set\n",
    "model.eval()\n",
    "with torch.no_grad():\n",
    "  outputs = model(X_test)\n",
    "  predicted = outputs.round()\n",
    "  correct = (predicted == y_test.view(-1,1)).float().sum()\n",
    "  accuracy = correct/y_test.size(0)\n",
    "  print(f\"Accuracy on test data: {accuracy.item() * 100:.2f}%\")"
   ]
  },
  {
   "cell_type": "code",
   "execution_count": null,
   "id": "3d9b5d07",
   "metadata": {
    "id": "oyXX4KtAAdDQ",
    "papermill": {
     "duration": 0.005557,
     "end_time": "2025-01-20T10:38:38.584459",
     "exception": false,
     "start_time": "2025-01-20T10:38:38.578902",
     "status": "completed"
    },
    "tags": []
   },
   "outputs": [],
   "source": []
  }
 ],
 "metadata": {
  "accelerator": "GPU",
  "colab": {
   "gpuType": "T4",
   "provenance": []
  },
  "kaggle": {
   "accelerator": "none",
   "dataSources": [],
   "dockerImageVersionId": 30839,
   "isGpuEnabled": false,
   "isInternetEnabled": true,
   "language": "python",
   "sourceType": "notebook"
  },
  "kernelspec": {
   "display_name": "Python 3",
   "language": "python",
   "name": "python3"
  },
  "language_info": {
   "codemirror_mode": {
    "name": "ipython",
    "version": 3
   },
   "file_extension": ".py",
   "mimetype": "text/x-python",
   "name": "python",
   "nbconvert_exporter": "python",
   "pygments_lexer": "ipython3",
   "version": "3.10.12"
  },
  "papermill": {
   "default_parameters": {},
   "duration": 16.439745,
   "end_time": "2025-01-20T10:38:40.413779",
   "environment_variables": {},
   "exception": null,
   "input_path": "__notebook__.ipynb",
   "output_path": "__notebook__.ipynb",
   "parameters": {},
   "start_time": "2025-01-20T10:38:23.974034",
   "version": "2.6.0"
  }
 },
 "nbformat": 4,
 "nbformat_minor": 5
}
